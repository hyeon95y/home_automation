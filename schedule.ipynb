{
 "cells": [
  {
   "cell_type": "markdown",
   "metadata": {},
   "source": [
    "# 1. 아침\n",
    "- BIOS Setting\n",
    "    - 윈도우 부팅\n",
    "- 윈도우 작업 스케줄러\n",
    "    - SSH Server 실행\n",
    "    - morning.py\n",
    "        - reminder, calendar 열기\n",
    "        - Youtube Music 실행 (30분)\n",
    "        - BBC News 실행 (2시간)\n",
    "        - 마지막 작업 후 스크립트 종료"
   ]
  },
  {
   "cell_type": "markdown",
   "metadata": {},
   "source": [
    "# 2. 집을 떠날때\n",
    "- Apple Automation :  Run Script via SSH\n",
    "    - 모니터 끄기\n",
    "        - (Add-Type '[DllImport(\"user32.dll\")]public static extern int SendMessage(int hWnd, int hMsg, int wParam, int lParam);' -Name a -Pas)::SendMessage(-1,0x0112,0xF170,2)\n",
    "    - 돌고 있는 모든 python script 종료\n",
    "        - taskkill /F /IM python.exe /T\n",
    "    - 아래(3.)과 마찬가지의 이유로 파이썬 스크립트를 실행시킬수 없었음"
   ]
  },
  {
   "cell_type": "markdown",
   "metadata": {},
   "source": [
    "# 3. 집에 돌아올때\n",
    "- Apple Automation : Run Script via SSH\n",
    "    - ~~get_home.py~~\n",
    "    - 내가 접속한 kernel(혹은 계정?)에서 .py가 실행되어, 윈도우 데스크탑에 selenium browser가 뜨지 않음\n",
    "    - (추측) selenium이 내가 접속한 계정에 할당된 디스플레이(no-display)를 잡는듯, 그래서 코드는 돌지만 윈도우 데스크탑에 창이 뜨지 않음\n",
    "    \n",
    "## Troubleshooting\n",
    "- [python selenium remote - 원격 PC 크롬 실행](https://myinbox.tistory.com/125)\n",
    "- 원격에서 selenium을 실행시키려면, local에서 selenium server가 돌아가고 selenium server를 통해서 명령을 내려야 하는듯\n",
    "- (추측) selenium 자체는 local 사용을 가정하고 만든 것이라 ssh를 통해서 접속했을 경우 접속 계정에서 selenium이 돌아감\n",
    "- (추측) 따라서 local monitor에 browser를 띄워주지 않아 의도한대로 사용할 수 없음"
   ]
  },
  {
   "cell_type": "code",
   "execution_count": null,
   "metadata": {},
   "outputs": [],
   "source": []
  }
 ],
 "metadata": {
  "kernelspec": {
   "display_name": "Python 3",
   "language": "python",
   "name": "python3"
  },
  "language_info": {
   "codemirror_mode": {
    "name": "ipython",
    "version": 3
   },
   "file_extension": ".py",
   "mimetype": "text/x-python",
   "name": "python",
   "nbconvert_exporter": "python",
   "pygments_lexer": "ipython3",
   "version": "3.6.8"
  }
 },
 "nbformat": 4,
 "nbformat_minor": 4
}
