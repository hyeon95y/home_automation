{
 "cells": [
  {
   "cell_type": "markdown",
   "metadata": {},
   "source": [
    "# Home Automation with Homekit, Python on Windows 10\n",
    "\n",
    "- Python script가 Cron에 의해 실행되고 난 뒤, 해당 브라우저가 종료될 시간까지 그 Script는 켜져있어야 함\n",
    "- Browser Instance를 계속 물고있어야 selenium으로 종료까지 가능"
   ]
  },
  {
   "cell_type": "code",
   "execution_count": 1,
   "metadata": {},
   "outputs": [],
   "source": [
    "import time\n",
    "import datetime\n",
    "import pickle\n",
    "\n",
    "from selenium import webdriver\n",
    "from selenium.webdriver.common.keys import Keys\n",
    "from selenium.webdriver.support.ui import WebDriverWait\n",
    "from selenium.webdriver.support import expected_conditions as EC\n",
    "from selenium.webdriver.common.by import By\n",
    "from selenium.common.exceptions import TimeoutException\n",
    "\n",
    "from soundmanager.sound import *\n",
    "\n",
    "import win32gui\n",
    "import win32con"
   ]
  },
  {
   "cell_type": "markdown",
   "metadata": {},
   "source": [
    "# References\n",
    "\n",
    "\n",
    "- [윈도우에서 파이썬 스크립트 작업 예약하기 (작업 스케줄러 대신 Cron으로)](http://hleecaster.com/task-scheduling-in-windows-using-cron/)\n",
    "- [windows 에서 .gitignore 파일 만들기](http://blog.naver.com/PostView.nhn?blogId=hahaysh&logNo=221337591637&parentCategoryNo=&categoryNo=12&viewDate=&isShowPopularPosts=false&from=postView)\n",
    "- [Windows 10에서 GCC와 Vi(Vim) 사용하기 : 네이버 블로그](http://blog.naver.com/PostView.nhn?blogId=watney0813&logNo=220964262053&parentCategoryNo=&categoryNo=17&viewDate=&isShowPopularPosts=false&from=postView)\n"
   ]
  },
  {
   "cell_type": "markdown",
   "metadata": {},
   "source": [
    "## 1. 정해진 시간에 컴퓨터 켜기\n",
    "- [[윈도10] 정해진 시간에 PC 끄기 & 켜는 방법](https://brunch.co.kr/@openmobile/127)"
   ]
  },
  {
   "cell_type": "code",
   "execution_count": null,
   "metadata": {},
   "outputs": [],
   "source": [
    "# set from bios setting"
   ]
  },
  {
   "cell_type": "markdown",
   "metadata": {},
   "source": [
    "## 2. 정해진 시간에 Google Chrome 실행하여 다음의 사이트 접속, 해당 Task 수행"
   ]
  },
  {
   "cell_type": "markdown",
   "metadata": {},
   "source": [
    "## a) iCloud Remider, Calender 실행 후 원하는 위치에 창 배치\n",
    "- [session not created: This version of ChromeDriver only supports Chrome version 74 error with ChromeDriver Chrome using Selenium](https://stackoverflow.com/questions/55201226/session-not-created-this-version-of-chromedriver-only-supports-chrome-version-7)\n",
    "- [나만의 웹 크롤러 만들기(3): Selenium으로 무적 크롤러 만들기](https://beomi.github.io/2017/02/27/HowToMakeWebCrawler-With-Selenium/)\n",
    "- [How to connect to icloud.com with Selenium?](https://stackoverflow.com/questions/57939765/how-to-connect-to-icloud-com-with-selenium)\n",
    "- [iCloud Website - NoSuchElementException: Unable to Locate Element](https://stackoverflow.com/questions/44553860/icloud-website-nosuchelementexception-unable-to-locate-element)\n",
    "- [In a multi-monitor display environment, how do I tell Selenium which display to open a new window in?](https://stackoverflow.com/questions/3816073/in-a-multi-monitor-display-environment-how-do-i-tell-selenium-which-display-to)"
   ]
  },
  {
   "cell_type": "code",
   "execution_count": null,
   "metadata": {},
   "outputs": [],
   "source": [
    "'''\n",
    "email = 'email@email.email'\n",
    "password = 'password'\n",
    "with open('email.pkl', 'wb') as handle:\n",
    "    pickle.dump(email, handle, protocol=pickle.HIGHEST_PROTOCOL)\n",
    "with open('password.pkl', 'wb') as handle:\n",
    "    pickle.dump(password, handle, protocol=pickle.HIGHEST_PROTOCOL)\n",
    "'''"
   ]
  },
  {
   "cell_type": "code",
   "execution_count": null,
   "metadata": {},
   "outputs": [],
   "source": [
    "with open('email.pkl', 'rb') as handle:\n",
    "    email = pickle.load(handle)\n",
    "with open('password.pkl', 'rb') as handle:\n",
    "    password = pickle.load(handle)"
   ]
  },
  {
   "cell_type": "markdown",
   "metadata": {},
   "source": [
    "### 1) Reminders"
   ]
  },
  {
   "cell_type": "code",
   "execution_count": null,
   "metadata": {},
   "outputs": [],
   "source": [
    "def open_icloud(link, profile_number, positions, sizes) : \n",
    "    options = webdriver.ChromeOptions() \n",
    "    options.add_argument(\"user-data-dir=C:\\\\Users\\\\pc\\\\AppData\\\\Local\\\\Google\\\\Chrome\\\\'User Data'\\\\Profile%s\"%str(profile_number)) #Path to your chrome profile\n",
    "    driver = webdriver.Chrome('chromedriver.exe', chrome_options=options)\n",
    "\n",
    "    driver.get(link)\n",
    "\n",
    "    delay = 20\n",
    "    try : \n",
    "        WebDriverWait(driver, delay).until(EC.frame_to_be_available_and_switch_to_it((By.ID, 'auth-frame')))\n",
    "    except : \n",
    "        reminders.switch_to.frame('auth-frame')\n",
    "        pass\n",
    "    time.sleep(5)\n",
    "    email_input = WebDriverWait(driver, delay).until(EC.presence_of_element_located((By.ID, 'account_name_text_field')))\n",
    "    email_input.send_keys(email)\n",
    "    email_input.send_keys(Keys.ENTER)\n",
    "    password_input = WebDriverWait(driver, delay).until(EC.element_to_be_clickable((By.ID, 'password_text_field')))\n",
    "    password_input.send_keys(password)\n",
    "    password_input.send_keys(Keys.ENTER)\n",
    "\n",
    "    driver.set_window_position(positions[0], positions[1])\n",
    "    driver.set_window_size(sizes[0], sizes[1])\n",
    "    return driver"
   ]
  },
  {
   "cell_type": "code",
   "execution_count": null,
   "metadata": {},
   "outputs": [],
   "source": [
    "# open reminder\n",
    "link = 'https://icloud.com/reminders'\n",
    "positions = [2550, 220]\n",
    "sizes = [900, 1030]\n",
    "reminders = open_icloud(link, 1, positions, sizes)"
   ]
  },
  {
   "cell_type": "code",
   "execution_count": null,
   "metadata": {},
   "outputs": [],
   "source": [
    "options = webdriver.ChromeOptions() \n",
    "options.add_argument(\"user-data-dir=C:\\\\Users\\\\pc\\\\AppData\\\\Local\\\\Google\\\\Chrome\\\\'User Data'\\\\Profile1\") #Path to your chrome profile\n",
    "reminders = webdriver.Chrome('chromedriver.exe', chrome_options=options)\n",
    "\n",
    "reminders.get('https://icloud.com/reminders')\n",
    "\n",
    "delay = 20\n",
    "try : \n",
    "    WebDriverWait(reminders, delay).until(EC.frame_to_be_available_and_switch_to_it((By.ID, 'auth-frame')))\n",
    "except : \n",
    "    reminders.switch_to.frame('auth-frame')\n",
    "    pass\n",
    "time.sleep(5)\n",
    "email_input = WebDriverWait(reminders, delay).until(EC.presence_of_element_located((By.ID, 'account_name_text_field')))\n",
    "email_input.send_keys(email)\n",
    "email_input.send_keys(Keys.ENTER)\n",
    "password_input = WebDriverWait(reminders, delay).until(EC.element_to_be_clickable((By.ID, 'password_text_field')))\n",
    "password_input.send_keys(password)\n",
    "password_input.send_keys(Keys.ENTER)\n",
    "first_run = False\n",
    "\n",
    "reminders.set_window_position(2550, 220)\n",
    "reminders.set_window_size(900, 1030)"
   ]
  },
  {
   "cell_type": "markdown",
   "metadata": {},
   "source": [
    "### 2) Calendar"
   ]
  },
  {
   "cell_type": "code",
   "execution_count": null,
   "metadata": {},
   "outputs": [],
   "source": [
    "# open calendar\n",
    "link = 'https://icloud.com/calendar'\n",
    "positions = [3430, 220]\n",
    "sizes = [850, 1030]\n",
    "reminders = open_icloud(link, 2, positions, sizes)"
   ]
  },
  {
   "cell_type": "code",
   "execution_count": null,
   "metadata": {},
   "outputs": [],
   "source": [
    "options = webdriver.ChromeOptions() \n",
    "options.add_argument(\"user-data-dir=C:\\\\Users\\\\pc\\\\AppData\\\\Local\\\\Google\\\\Chrome\\\\'User Data'\\\\Profile2\") #Path to your chrome profile\n",
    "calendar = webdriver.Chrome('chromedriver.exe', chrome_options=options)\n",
    "\n",
    "calendar.get('https://icloud.com/calendar')\n",
    "\n",
    "delay = 20\n",
    "try : \n",
    "    WebDriverWait(calendar, delay).until(EC.frame_to_be_available_and_switch_to_it((By.ID, 'auth-frame')))\n",
    "except : \n",
    "    calendar.switch_to.frame('auth-frame')\n",
    "    pass\n",
    "time.sleep(5)\n",
    "email_input = WebDriverWait(calendar, delay).until(EC.presence_of_element_located((By.ID, 'account_name_text_field')))\n",
    "email_input.send_keys(email)\n",
    "email_input.send_keys(Keys.ENTER)\n",
    "password_input = WebDriverWait(calendar, delay).until(EC.element_to_be_clickable((By.ID, 'password_text_field')))\n",
    "password_input.send_keys(password)\n",
    "password_input.send_keys(Keys.ENTER)\n",
    "first_run = False\n",
    "\n",
    "calendar.set_window_position(3430, 220)\n",
    "calendar.set_window_size(850, 1030)"
   ]
  },
  {
   "cell_type": "code",
   "execution_count": null,
   "metadata": {},
   "outputs": [],
   "source": [
    "'''\n",
    "try : \n",
    "    driver.switch_to.frame('auth-frame')\n",
    "except : \n",
    "    pass\n",
    "driver.find_element_by_id('account_name_text_field').send_keys(email)\n",
    "driver.find_element_by_id('account_name_text_field').send_keys(Keys.ENTER)\n",
    "driver.find_element_by_id('password_text_field').send_keys(password)\n",
    "driver.find_element_by_id('password_text_field').send_keys(Keys.ENTER)\n",
    "'''"
   ]
  },
  {
   "cell_type": "markdown",
   "metadata": {},
   "source": [
    "### b) Set Volume\n",
    "- [Paradoxis/Windows-Sound-Manager](https://github.com/Paradoxis/Windows-Sound-Manager)\n",
    "- [[Python] 상위, 하위, 동일 폴더 내 모듈 from, import 하는 방법](https://brownbears.tistory.com/296)"
   ]
  },
  {
   "cell_type": "code",
   "execution_count": null,
   "metadata": {},
   "outputs": [],
   "source": [
    "# default\n",
    "Sound.volume_set(70)"
   ]
  },
  {
   "cell_type": "code",
   "execution_count": null,
   "metadata": {},
   "outputs": [],
   "source": [
    "# turn off\n",
    "Sound.volume_set(0)"
   ]
  },
  {
   "cell_type": "markdown",
   "metadata": {},
   "source": [
    "### c) Play songs for morning\n",
    "\n",
    "- [How to click on the play button of a youtube video embedded within smtebook through selenium and python](https://stackoverflow.com/questions/51764056/how-to-click-on-the-play-button-of-a-youtube-video-embedded-within-smtebook-thro)\n",
    "\n",
    "#### Playlist\n",
    "- [Relaxing JAzz & Bossa Nova Music Radio](https://www.youtube.com/watch?v=Suy_dHz8Ojg)"
   ]
  },
  {
   "cell_type": "code",
   "execution_count": 2,
   "metadata": {},
   "outputs": [],
   "source": [
    "def play_youtube(link, minutes, volume) : \n",
    "    Sound.volume_set(volume)\n",
    "\n",
    "    options = webdriver.ChromeOptions() \n",
    "    options.add_argument(\"user-data-dir=C:\\\\Users\\\\pc\\\\AppData\\\\Local\\\\Google\\\\Chrome\\\\'User Data'\\\\Profile3\") #Path to your chrome profile\n",
    "\n",
    "    driver = webdriver.Chrome('chromedriver.exe', chrome_options=options)\n",
    "    driver.get(link)\n",
    "\n",
    "    try : \n",
    "        WebDriverWait(driver, 20).until(EC.element_to_be_clickable((By.XPATH, \"//button[@class='ytp-large-play-button ytp-button']\"))).click()\n",
    "    except :\n",
    "        pass\n",
    "\n",
    "    now = datetime.datetime.today()\n",
    "    future = datetime.datetime(now.year,now.month,now.day,now.hour,now.minute+minutes)\n",
    "    print(now, future)\n",
    "    time.sleep((future-now).seconds)\n",
    "    driver.quit()\n",
    "    return"
   ]
  },
  {
   "cell_type": "code",
   "execution_count": 3,
   "metadata": {},
   "outputs": [
    {
     "name": "stderr",
     "output_type": "stream",
     "text": [
      "c:\\users\\hyeonwoo\\appdata\\local\\programs\\python\\python36\\lib\\site-packages\\ipykernel_launcher.py:7: DeprecationWarning: use options instead of chrome_options\n",
      "  import sys\n"
     ]
    },
    {
     "name": "stdout",
     "output_type": "stream",
     "text": [
      "2019-11-27 00:35:39.577131 2019-11-27 00:36:00\n"
     ]
    }
   ],
   "source": [
    "link = 'https://www.youtube.com/watch?v=Suy_dHz8Ojg'\n",
    "minutes_music = 1\n",
    "volume_music = 70\n",
    "play_youtube(link, minutes_music, volume_music)"
   ]
  },
  {
   "cell_type": "code",
   "execution_count": null,
   "metadata": {},
   "outputs": [],
   "source": [
    "Sound.volume_set(volume_music)\n",
    "\n",
    "link = 'https://www.youtube.com/watch?v=Suy_dHz8Ojg'\n",
    "options = webdriver.ChromeOptions() \n",
    "options.add_argument(\"user-data-dir=C:\\\\Users\\\\pc\\\\AppData\\\\Local\\\\Google\\\\Chrome\\\\'User Data'\\\\Profile3\") #Path to your chrome profile\n",
    "\n",
    "jazz = webdriver.Chrome('chromedriver.exe', chrome_options=options)\n",
    "jazz.get(link)\n",
    "\n",
    "try : \n",
    "    WebDriverWait(jazz, 20).until(EC.element_to_be_clickable((By.XPATH, \"//button[@class='ytp-large-play-button ytp-button']\"))).click()\n",
    "except :\n",
    "    pass\n",
    "\n",
    "now = datetime.datetime.today()\n",
    "future = datetime.datetime(now.year,now.month,now.day,now.hour,now.minute+minutes_music)\n",
    "print(now, future)\n",
    "time.sleep((future-now).seconds)\n",
    "jazz.quit()"
   ]
  },
  {
   "cell_type": "markdown",
   "metadata": {},
   "source": [
    "### d) Watch BBC News UK\n",
    "- [target link 1](http://livenewsmag.com/bbc-news-uk-live-stream/)\n",
    "- [target link 2](http://easyview.eu/watch.php?stream=bbc-1)"
   ]
  },
  {
   "cell_type": "code",
   "execution_count": 5,
   "metadata": {},
   "outputs": [
    {
     "name": "stdout",
     "output_type": "stream",
     "text": [
      "2019-11-27 00:37:13.203904 2019-11-27 00:38:00\n"
     ]
    }
   ],
   "source": [
    "def play_bbc(link, minutes, volume) :\n",
    "    # volume should be adjusted\n",
    "    Sound.volume_set(volume)\n",
    "\n",
    "    driver = webdriver.Chrome('chromedriver.exe')\n",
    "    driver.get(link)\n",
    "\n",
    "    WebDriverWait(driver, 20).until(EC.element_to_be_clickable((By.ID, 'jwppp-video-box-801'))).click()\n",
    "\n",
    "    now = datetime.datetime.today()\n",
    "    future = datetime.datetime(now.year,now.month,now.day,now.hour,now.minute+minutes)\n",
    "    print(now, future)\n",
    "    time.sleep((future-now).seconds)\n",
    "    driver.quit()\n",
    "    return"
   ]
  },
  {
   "cell_type": "code",
   "execution_count": 7,
   "metadata": {},
   "outputs": [
    {
     "name": "stdout",
     "output_type": "stream",
     "text": [
      "2019-11-27 00:39:15.776277 2019-11-27 00:40:00\n"
     ]
    }
   ],
   "source": [
    "link = 'https://www.livenewsmag.com/bbc-news-uk-live-stream/'\n",
    "minutes_bbc = 1\n",
    "volume_bbc = 15\n",
    "play_bbc(link, minutes_bbc, volume_bbc)"
   ]
  },
  {
   "cell_type": "code",
   "execution_count": null,
   "metadata": {},
   "outputs": [],
   "source": [
    "# volume should be adjusted\n",
    "Sound.volume_set(volume_bbc)\n",
    "\n",
    "link = 'https://www.livenewsmag.com/bbc-news-uk-live-stream/'\n",
    "bbc = webdriver.Chrome('chromedriver.exe')\n",
    "bbc.get(link)\n",
    "\n",
    "WebDriverWait(bbc, 20).until(EC.element_to_be_clickable((By.ID, 'jwppp-video-box-801'))).click()\n",
    "\n",
    "now = datetime.datetime.today()\n",
    "future = datetime.datetime(now.year,now.month,now.day,now.hour,now.minute+minutes_bbc)\n",
    "print(now, future)\n",
    "time.sleep((future-now).seconds)\n",
    "bbc.quit()"
   ]
  },
  {
   "cell_type": "markdown",
   "metadata": {},
   "source": [
    "## 3. 정해진 시간에 모니터 끄기\n",
    "- [Control Screen with Python](https://stackoverflow.com/questions/16402672/control-screen-with-python/53783515)\n",
    "- win32gui는 juptyerlab이 Windows 10의 Powershell에서 열렸을때만 동작함, ssh 접속으로 jupyterlab을 열었을때는 동작하지 않음.\n",
    "- (추측) jupyterlab이 어디서 실행되느냐에 따라 win32gui가 인식하는 장치가 다른듯"
   ]
  },
  {
   "cell_type": "code",
   "execution_count": null,
   "metadata": {},
   "outputs": [],
   "source": [
    "def monitor_turn_off() :\n",
    "    #to turn off use :-\n",
    "    win32gui.SendMessage(win32con.HWND_BROADCAST,\n",
    "                     win32con.WM_SYSCOMMAND, win32con.SC_MONITORPOWER, 2)\n",
    "    return\n",
    "\n"
   ]
  },
  {
   "cell_type": "code",
   "execution_count": null,
   "metadata": {},
   "outputs": [],
   "source": [
    "def monitor_turn_on() : \n",
    "    #turn on use :-\n",
    "    win32gui.SendMessage(win32con.HWND_BROADCAST,\n",
    "                 win32con.WM_SYSCOMMAND, win32con.SC_MONITORPOWER, -1)\n",
    "    return"
   ]
  },
  {
   "cell_type": "markdown",
   "metadata": {},
   "source": [
    "## 4. Apple Home Automation을 통해 Script 실행, 아래의 Task 수행\n",
    "- 집에 가까이 올때 : 아침과 같은 Task 수행\n",
    "- 집에서 멀어질때 : 집에서 나갈때와 같은 Task 수행"
   ]
  },
  {
   "cell_type": "code",
   "execution_count": null,
   "metadata": {},
   "outputs": [],
   "source": []
  },
  {
   "cell_type": "markdown",
   "metadata": {},
   "source": [
    "## 5. 정해진 시간에 컴퓨터 끄기"
   ]
  },
  {
   "cell_type": "code",
   "execution_count": null,
   "metadata": {},
   "outputs": [],
   "source": []
  }
 ],
 "metadata": {
  "kernelspec": {
   "display_name": "Python 3",
   "language": "python",
   "name": "python3"
  },
  "language_info": {
   "codemirror_mode": {
    "name": "ipython",
    "version": 3
   },
   "file_extension": ".py",
   "mimetype": "text/x-python",
   "name": "python",
   "nbconvert_exporter": "python",
   "pygments_lexer": "ipython3",
   "version": "3.6.8"
  }
 },
 "nbformat": 4,
 "nbformat_minor": 4
}
